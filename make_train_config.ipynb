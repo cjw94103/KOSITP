{
 "cells": [
  {
   "cell_type": "code",
   "execution_count": 2,
   "id": "fd38fbeb-3630-4347-a600-c22d83f88a8b",
   "metadata": {},
   "outputs": [],
   "source": [
    "from utils import *"
   ]
  },
  {
   "cell_type": "code",
   "execution_count": 3,
   "id": "56a11457-301c-4593-8714-7fc5e5daffee",
   "metadata": {},
   "outputs": [],
   "source": [
    "config = {}\n",
    "\n",
    "config['train_path'] = \"../01_Data_Processing/processed_data/01_SuperNITaskDataset_Whole/03_03_Integration_TrainVal/Trainset.jsonl\"\n",
    "config['val_path'] = \"../01_Data_Processing/processed_data/01_SuperNITaskDataset_Whole/03_03_Integration_TrainVal/Valset.jsonl\"\n",
    "config['max_seq_length'] = 2048\n",
    "config['pretrained_model_name'] = \"davidkim205/komt-mistral-7b-v1\"\n",
    "\n",
    "config['lora_r'] = 8\n",
    "config['lora_alpha'] = 32\n",
    "config['lora_target_modules'] = [\"q_proj\", \"k_proj\", \"v_proj\", \"o_proj\", \"gate_proj\", \"up_proj\", \"down_proj\"]\n",
    "config['lora_dropout'] = 0.\n",
    "config['use_gradient_checkpointing'] = True\n",
    "config['random_state'] = 3407\n",
    "config['use_rslora'] = False\n",
    "\n",
    "config['num_train_epochs'] = 3\n",
    "config['train_batch_size'] = 4\n",
    "config['eval_batch_size'] = 4\n",
    "config['gradient_accumulation_steps'] = 4\n",
    "config['weight_decay'] = 0.01\n",
    "config['evaluation_strategy'] = 'steps'\n",
    "config['save_steps'] = 9811\n",
    "config['eval_steps'] = 9811\n",
    "config['learning_rate'] = 2e-4\n",
    "config['logging_steps'] = 100\n",
    "config['output_dir'] = \"model_result/Mistral_Test\"\n",
    "config['optim'] = 'adamw_8bit'\n",
    "config['load_best_model_at_end'] = True\n",
    "config['save_total_limit'] = 3\n",
    "\n",
    "config['packing'] = False\n",
    "config['model_use_cache'] = False"
   ]
  },
  {
   "cell_type": "code",
   "execution_count": 4,
   "id": "616b9099-72ad-4e05-9825-428b11166659",
   "metadata": {},
   "outputs": [],
   "source": [
    "save_json('./config/Mistral_train_config.json', config)"
   ]
  }
 ],
 "metadata": {
  "kernelspec": {
   "display_name": "unsloth_torch",
   "language": "python",
   "name": "unsloth_torch"
  },
  "language_info": {
   "codemirror_mode": {
    "name": "ipython",
    "version": 3
   },
   "file_extension": ".py",
   "mimetype": "text/x-python",
   "name": "python",
   "nbconvert_exporter": "python",
   "pygments_lexer": "ipython3",
   "version": "3.10.14"
  }
 },
 "nbformat": 4,
 "nbformat_minor": 5
}
